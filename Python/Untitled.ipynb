{
 "cells": [
  {
   "cell_type": "code",
   "execution_count": 1,
   "metadata": {},
   "outputs": [],
   "source": [
    "wind_dir_dict = {'East' : 0,\n",
    "                 'ENE' : 0, \n",
    "                 'ESE' : 0, \n",
    "                 \n",
    "                 'West' : 1, \n",
    "                 'WSW' : 1,\n",
    "                 'WNW' : 1,\n",
    "                 \n",
    "                 'South' : 2, \n",
    "                 'SSE' : 2,   \n",
    "                 'SSW' : 2,\n",
    "                 \n",
    "                 'North' : 3, \n",
    "                 'NNE' : 3, \n",
    "                 'NNW' : 3,\n",
    "                 \n",
    "                 'Variable' : 4, \n",
    "                 'Calm' : 5, \n",
    "                 'SW' : 6, \n",
    "                 'NW' : 7, \n",
    "                 'NE' : 8, \n",
    "                 'SE' : 9, \n",
    "                 'Unknown' : 10\n",
    "                }"
   ]
  },
  {
   "cell_type": "code",
   "execution_count": 4,
   "metadata": {},
   "outputs": [
    {
     "data": {
      "text/plain": [
       "{'East': 0,\n",
       " 'ENE': 0,\n",
       " 'ESE': 0,\n",
       " 'West': 1,\n",
       " 'WSW': 1,\n",
       " 'WNW': 1,\n",
       " 'South': 2,\n",
       " 'SSE': 2,\n",
       " 'SSW': 2,\n",
       " 'North': 3,\n",
       " 'NNE': 3,\n",
       " 'NNW': 3,\n",
       " 'Variable': 4,\n",
       " 'Calm': 5,\n",
       " 'SW': 6,\n",
       " 'NW': 7,\n",
       " 'NE': 8,\n",
       " 'SE': 9,\n",
       " 'Unknown': 10}"
      ]
     },
     "execution_count": 4,
     "metadata": {},
     "output_type": "execute_result"
    }
   ],
   "source": [
    "wind_dir_dict"
   ]
  },
  {
   "cell_type": "code",
   "execution_count": 22,
   "metadata": {},
   "outputs": [
    {
     "data": {
      "text/plain": [
       "0"
      ]
     },
     "execution_count": 22,
     "metadata": {},
     "output_type": "execute_result"
    }
   ],
   "source": [
    "wind_dir_dict['East']"
   ]
  },
  {
   "cell_type": "code",
   "execution_count": 6,
   "metadata": {},
   "outputs": [
    {
     "data": {
      "text/plain": [
       "'East'"
      ]
     },
     "execution_count": 6,
     "metadata": {},
     "output_type": "execute_result"
    }
   ],
   "source": [
    "list(wind_dir_dict)[0]"
   ]
  },
  {
   "cell_type": "code",
   "execution_count": 8,
   "metadata": {},
   "outputs": [
    {
     "data": {
      "text/plain": [
       "dict_keys(['East', 'ENE', 'ESE', 'West', 'WSW', 'WNW', 'South', 'SSE', 'SSW', 'North', 'NNE', 'NNW', 'Variable', 'Calm', 'SW', 'NW', 'NE', 'SE', 'Unknown'])"
      ]
     },
     "execution_count": 8,
     "metadata": {},
     "output_type": "execute_result"
    }
   ],
   "source": [
    "wind_dir_dict.keys()"
   ]
  },
  {
   "cell_type": "code",
   "execution_count": 21,
   "metadata": {},
   "outputs": [
    {
     "data": {
      "text/plain": [
       "dict_values([0, 0, 0, 1, 1, 1, 2, 2, 2, 3, 3, 3, 4, 5, 6, 7, 8, 9, 10])"
      ]
     },
     "execution_count": 21,
     "metadata": {},
     "output_type": "execute_result"
    }
   ],
   "source": [
    "wind_dir_dict.values()"
   ]
  },
  {
   "cell_type": "code",
   "execution_count": 10,
   "metadata": {},
   "outputs": [
    {
     "data": {
      "text/plain": [
       "'East'"
      ]
     },
     "execution_count": 10,
     "metadata": {},
     "output_type": "execute_result"
    }
   ],
   "source": [
    "next(iter(wind_dir_dict))"
   ]
  },
  {
   "cell_type": "code",
   "execution_count": 15,
   "metadata": {},
   "outputs": [],
   "source": [
    "it = iter(wind_dir_dict.values())"
   ]
  },
  {
   "cell_type": "code",
   "execution_count": 20,
   "metadata": {},
   "outputs": [
    {
     "data": {
      "text/plain": [
       "<dict_valueiterator at 0x691c488>"
      ]
     },
     "execution_count": 20,
     "metadata": {},
     "output_type": "execute_result"
    }
   ],
   "source": [
    "it"
   ]
  },
  {
   "cell_type": "code",
   "execution_count": 16,
   "metadata": {},
   "outputs": [],
   "source": [
    "first, second = next(it), next(it)"
   ]
  },
  {
   "cell_type": "code",
   "execution_count": 18,
   "metadata": {},
   "outputs": [
    {
     "data": {
      "text/plain": [
       "0"
      ]
     },
     "execution_count": 18,
     "metadata": {},
     "output_type": "execute_result"
    }
   ],
   "source": [
    "first"
   ]
  },
  {
   "cell_type": "code",
   "execution_count": 19,
   "metadata": {},
   "outputs": [
    {
     "data": {
      "text/plain": [
       "0"
      ]
     },
     "execution_count": 19,
     "metadata": {},
     "output_type": "execute_result"
    }
   ],
   "source": [
    "second"
   ]
  }
 ],
 "metadata": {
  "kernelspec": {
   "display_name": "Python 3",
   "language": "python",
   "name": "python3"
  },
  "language_info": {
   "codemirror_mode": {
    "name": "ipython",
    "version": 3
   },
   "file_extension": ".py",
   "mimetype": "text/x-python",
   "name": "python",
   "nbconvert_exporter": "python",
   "pygments_lexer": "ipython3",
   "version": "3.8.3"
  }
 },
 "nbformat": 4,
 "nbformat_minor": 4
}
