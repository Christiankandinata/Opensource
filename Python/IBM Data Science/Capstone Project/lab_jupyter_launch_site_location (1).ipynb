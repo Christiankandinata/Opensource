{
 "cells": [
  {
   "cell_type": "markdown",
   "metadata": {
    "id": "3n3ltmfnrqpi",
    "outputId": "a2d4f52a-2fb7-4668-f5f0-fe862aab8eb0",
    "papermill": {
     "duration": 1.489571,
     "end_time": "2020-09-19T06:26:57.168979",
     "exception": false,
     "start_time": "2020-09-19T06:26:55.679408",
     "status": "completed"
    },
    "tags": []
   },
   "source": [
    "<center>\n",
    "    <img src=\"https://gitlab.com/ibm/skills-network/courses/placeholder101/-/raw/master/labs/module%201/images/IDSNlogo.png\" width=\"300\" alt=\"cognitiveclass.ai logo\"  />\n",
    "</center>\n"
   ]
  },
  {
   "cell_type": "markdown",
   "metadata": {},
   "source": [
    "# **Launch Sites Locations Analysis with Folium**\n"
   ]
  },
  {
   "cell_type": "markdown",
   "metadata": {},
   "source": [
    "Estimated time needed: **40** minutes\n"
   ]
  },
  {
   "cell_type": "markdown",
   "metadata": {},
   "source": [
    "The launch success rate may depend on many factors such as payload mass, orbit type, and so on. It may also depend on the location and proximities of a launch site, i.e., the initial position of rocket trajectories. Finding an optimal location for building a launch site certainly involves many factors and hopefully we could discover some of the factors by analyzing the existing launch site locations.\n"
   ]
  },
  {
   "cell_type": "markdown",
   "metadata": {},
   "source": [
    "In the previous exploratory data analysis labs, you have visualized the SpaceX launch dataset using `matplotlib` and `seaborn` and discovered some preliminary correlations between the launch site and success rates. In this lab, you will be performing more interactive visual analytics using `Folium`.\n"
   ]
  },
  {
   "cell_type": "markdown",
   "metadata": {},
   "source": [
    "## Objectives\n"
   ]
  },
  {
   "cell_type": "markdown",
   "metadata": {},
   "source": [
    "This lab contains the following tasks:\n",
    "\n",
    "*   **TASK 1:** Mark all launch sites on a map\n",
    "*   **TASK 2:** Mark the success/failed launches for each site on the map\n",
    "*   **TASK 3:** Calculate the distances between a launch site to its proximities\n",
    "\n",
    "After completed the above tasks, you should be able to find some geographical patterns about launch sites.\n"
   ]
  },
  {
   "cell_type": "markdown",
   "metadata": {},
   "source": [
    "Let's first import required Python packages for this lab:\n"
   ]
  },
  {
   "cell_type": "code",
   "execution_count": 1,
   "metadata": {},
   "outputs": [
    {
     "name": "stdout",
     "output_type": "stream",
     "text": [
      "Requirement already satisfied: folium in c:\\users\\julo\\appdata\\local\\programs\\python\\python38-32\\lib\\site-packages (0.11.0)\n",
      "Requirement already satisfied: requests in c:\\users\\julo\\appdata\\local\\programs\\python\\python38-32\\lib\\site-packages (from folium) (2.23.0)\n",
      "Requirement already satisfied: jinja2>=2.9 in c:\\users\\julo\\appdata\\local\\programs\\python\\python38-32\\lib\\site-packages (from folium) (3.0.2)\n",
      "Requirement already satisfied: branca>=0.3.0 in c:\\users\\julo\\appdata\\local\\programs\\python\\python38-32\\lib\\site-packages (from folium) (0.4.1)\n",
      "Requirement already satisfied: numpy in c:\\users\\julo\\appdata\\local\\programs\\python\\python38-32\\lib\\site-packages (from folium) (1.18.5)\n",
      "Requirement already satisfied: MarkupSafe>=2.0 in c:\\users\\julo\\appdata\\local\\programs\\python\\python38-32\\lib\\site-packages (from jinja2>=2.9->folium) (2.0.1)\n",
      "Requirement already satisfied: chardet<4,>=3.0.2 in c:\\users\\julo\\appdata\\local\\programs\\python\\python38-32\\lib\\site-packages (from requests->folium) (3.0.4)\n",
      "Requirement already satisfied: urllib3!=1.25.0,!=1.25.1,<1.26,>=1.21.1 in c:\\users\\julo\\appdata\\local\\programs\\python\\python38-32\\lib\\site-packages (from requests->folium) (1.25.9)\n",
      "Requirement already satisfied: certifi>=2017.4.17 in c:\\users\\julo\\appdata\\local\\programs\\python\\python38-32\\lib\\site-packages (from requests->folium) (2020.4.5.2)\n",
      "Requirement already satisfied: idna<3,>=2.5 in c:\\users\\julo\\appdata\\local\\programs\\python\\python38-32\\lib\\site-packages (from requests->folium) (2.9)\n",
      "Requirement already satisfied: wget in c:\\users\\julo\\appdata\\local\\programs\\python\\python38-32\\lib\\site-packages (3.2)\n"
     ]
    }
   ],
   "source": [
    "!pip3 install folium\n",
    "!pip3 install wget"
   ]
  },
  {
   "cell_type": "code",
   "execution_count": 2,
   "metadata": {},
   "outputs": [],
   "source": [
    "import folium\n",
    "import wget\n",
    "import pandas as pd"
   ]
  },
  {
   "cell_type": "code",
   "execution_count": 3,
   "metadata": {},
   "outputs": [],
   "source": [
    "# Import folium MarkerCluster plugin\n",
    "from folium.plugins import MarkerCluster\n",
    "# Import folium MousePosition plugin\n",
    "from folium.plugins import MousePosition\n",
    "# Import folium DivIcon plugin\n",
    "from folium.features import DivIcon"
   ]
  },
  {
   "cell_type": "markdown",
   "metadata": {},
   "source": [
    "If you need to refresh your memory about folium, you may download and refer to this previous folium lab:\n"
   ]
  },
  {
   "cell_type": "markdown",
   "metadata": {},
   "source": [
    "[Generating Maps with Python](https://cf-courses-data.s3.us.cloud-object-storage.appdomain.cloud/IBM-DS0321EN-SkillsNetwork/labs/module\\_3/DV0101EN-3-5-1-Generating-Maps-in-Python-py-v2.0.ipynb)\n"
   ]
  },
  {
   "cell_type": "markdown",
   "metadata": {},
   "source": [
    "## Task 1: Mark all launch sites on a map\n"
   ]
  },
  {
   "cell_type": "markdown",
   "metadata": {},
   "source": [
    "First, let's try to add each site's location on a map using site's latitude and longitude coordinates\n"
   ]
  },
  {
   "cell_type": "markdown",
   "metadata": {},
   "source": [
    "The following dataset with the name `spacex_launch_geo.csv` is an augmented dataset with latitude and longitude added for each site.\n"
   ]
  },
  {
   "cell_type": "code",
   "execution_count": 4,
   "metadata": {},
   "outputs": [],
   "source": [
    "# Download and read the `spacex_launch_geo.csv`\n",
    "spacex_csv_file = wget.download('https://cf-courses-data.s3.us.cloud-object-storage.appdomain.cloud/IBM-DS0321EN-SkillsNetwork/datasets/spacex_launch_geo.csv')\n",
    "spacex_df=pd.read_csv(spacex_csv_file)"
   ]
  },
  {
   "cell_type": "markdown",
   "metadata": {},
   "source": [
    "Now, you can take a look at what are the coordinates for each site.\n"
   ]
  },
  {
   "cell_type": "code",
   "execution_count": 5,
   "metadata": {},
   "outputs": [
    {
     "data": {
      "text/html": [
       "<div>\n",
       "<style scoped>\n",
       "    .dataframe tbody tr th:only-of-type {\n",
       "        vertical-align: middle;\n",
       "    }\n",
       "\n",
       "    .dataframe tbody tr th {\n",
       "        vertical-align: top;\n",
       "    }\n",
       "\n",
       "    .dataframe thead th {\n",
       "        text-align: right;\n",
       "    }\n",
       "</style>\n",
       "<table border=\"1\" class=\"dataframe\">\n",
       "  <thead>\n",
       "    <tr style=\"text-align: right;\">\n",
       "      <th></th>\n",
       "      <th>Launch Site</th>\n",
       "      <th>Lat</th>\n",
       "      <th>Long</th>\n",
       "    </tr>\n",
       "  </thead>\n",
       "  <tbody>\n",
       "    <tr>\n",
       "      <th>0</th>\n",
       "      <td>CCAFS LC-40</td>\n",
       "      <td>28.562302</td>\n",
       "      <td>-80.577356</td>\n",
       "    </tr>\n",
       "    <tr>\n",
       "      <th>1</th>\n",
       "      <td>CCAFS SLC-40</td>\n",
       "      <td>28.563197</td>\n",
       "      <td>-80.576820</td>\n",
       "    </tr>\n",
       "    <tr>\n",
       "      <th>2</th>\n",
       "      <td>KSC LC-39A</td>\n",
       "      <td>28.573255</td>\n",
       "      <td>-80.646895</td>\n",
       "    </tr>\n",
       "    <tr>\n",
       "      <th>3</th>\n",
       "      <td>VAFB SLC-4E</td>\n",
       "      <td>34.632834</td>\n",
       "      <td>-120.610746</td>\n",
       "    </tr>\n",
       "  </tbody>\n",
       "</table>\n",
       "</div>"
      ],
      "text/plain": [
       "    Launch Site        Lat        Long\n",
       "0   CCAFS LC-40  28.562302  -80.577356\n",
       "1  CCAFS SLC-40  28.563197  -80.576820\n",
       "2    KSC LC-39A  28.573255  -80.646895\n",
       "3   VAFB SLC-4E  34.632834 -120.610746"
      ]
     },
     "execution_count": 5,
     "metadata": {},
     "output_type": "execute_result"
    }
   ],
   "source": [
    "# Select relevant sub-columns: `Launch Site`, `Lat(Latitude)`, `Long(Longitude)`, `class`\n",
    "spacex_df = spacex_df[['Launch Site', 'Lat', 'Long', 'class']]\n",
    "launch_sites_df = spacex_df.groupby(['Launch Site'], as_index=False).first()\n",
    "launch_sites_df = launch_sites_df[['Launch Site', 'Lat', 'Long']]\n",
    "launch_sites_df"
   ]
  },
  {
   "cell_type": "markdown",
   "metadata": {},
   "source": [
    "Above coordinates are just plain numbers that can not give you any intuitive insights about where are those launch sites. If you are very good at geography, you can interpret those numbers directly in your mind. If not, that's fine too. Let's visualize those locations by pinning them on a map.\n"
   ]
  },
  {
   "cell_type": "markdown",
   "metadata": {},
   "source": [
    "We first need to create a folium `Map` object, with an initial center location to be NASA Johnson Space Center at Houston, Texas.\n"
   ]
  },
  {
   "cell_type": "code",
   "execution_count": 6,
   "metadata": {},
   "outputs": [],
   "source": [
    "# Start location is NASA Johnson Space Center\n",
    "nasa_coordinate = [29.559684888503615, -95.0830971930759]\n",
    "site_map = folium.Map(location=nasa_coordinate, zoom_start=10)"
   ]
  },
  {
   "cell_type": "markdown",
   "metadata": {},
   "source": [
    "We could use `folium.Circle` to add a highlighted circle area with a text label on a specific coordinate. For example,\n"
   ]
  },
  {
   "cell_type": "code",
   "execution_count": 7,
   "metadata": {},
   "outputs": [
    {
     "data": {
      "text/html": [
       "<div style=\"width:100%;\"><div style=\"position:relative;width:100%;height:0;padding-bottom:60%;\"><span style=\"color:#565656\">Make this Notebook Trusted to load map: File -> Trust Notebook</span><iframe src=\"about:blank\" style=\"position:absolute;width:100%;height:100%;left:0;top:0;border:none !important;\" data-html=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 onload=\"this.contentDocument.open();this.contentDocument.write(atob(this.getAttribute('data-html')));this.contentDocument.close();\" allowfullscreen webkitallowfullscreen mozallowfullscreen></iframe></div></div>"
      ],
      "text/plain": [
       "<folium.folium.Map at 0x11050da8>"
      ]
     },
     "execution_count": 7,
     "metadata": {},
     "output_type": "execute_result"
    }
   ],
   "source": [
    "# Create a blue circle at NASA Johnson Space Center's coordinate with a popup label showing its name\n",
    "circle = folium.Circle(nasa_coordinate, radius=1000, color='#d35400', fill=True).add_child(folium.Popup('NASA Johnson Space Center'))\n",
    "# Create a blue circle at NASA Johnson Space Center's coordinate with a icon showing its name\n",
    "marker = folium.map.Marker(\n",
    "    nasa_coordinate,\n",
    "    # Create an icon as a text label\n",
    "    icon=DivIcon(\n",
    "        icon_size=(20,20),\n",
    "        icon_anchor=(0,0),\n",
    "        html='<div style=\"font-size: 12; color:#d35400;\"><b>%s</b></div>' % 'NASA JSC',\n",
    "        )\n",
    "    )\n",
    "site_map.add_child(circle)\n",
    "site_map.add_child(marker)"
   ]
  },
  {
   "cell_type": "markdown",
   "metadata": {},
   "source": [
    "and you should find a small yellow circle near the city of Houston and you can zoom-in to see a larger circle.\n"
   ]
  },
  {
   "cell_type": "markdown",
   "metadata": {},
   "source": [
    "Now, let's add a circle for each launch site in data frame `launch_sites`\n"
   ]
  },
  {
   "cell_type": "markdown",
   "metadata": {},
   "source": [
    "*TODO:*  Create and add `folium.Circle` and `folium.Marker` for each launch site on the site map\n"
   ]
  },
  {
   "cell_type": "markdown",
   "metadata": {},
   "source": [
    "An example of folium.Circle:\n"
   ]
  },
  {
   "cell_type": "markdown",
   "metadata": {},
   "source": [
    "`folium.Circle(coordinate, radius=1000, color='#000000', fill=True).add_child(folium.Popup(...))`\n"
   ]
  },
  {
   "cell_type": "markdown",
   "metadata": {},
   "source": [
    "An example of folium.Marker:\n"
   ]
  },
  {
   "cell_type": "markdown",
   "metadata": {},
   "source": [
    "`folium.map.Marker(coordinate, icon=DivIcon(icon_size=(20,20),icon_anchor=(0,0), html='<div style=\"font-size: 12; color:#d35400;\"><b>%s</b></div>' % 'label', ))`\n"
   ]
  },
  {
   "cell_type": "code",
   "execution_count": 8,
   "metadata": {},
   "outputs": [
    {
     "data": {
      "text/html": [
       "<div style=\"width:100%;\"><div style=\"position:relative;width:100%;height:0;padding-bottom:60%;\"><span style=\"color:#565656\">Make this Notebook Trusted to load map: File -> Trust Notebook</span><iframe src=\"about:blank\" style=\"position:absolute;width:100%;height:100%;left:0;top:0;border:none !important;\" data-html=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 onload=\"this.contentDocument.open();this.contentDocument.write(atob(this.getAttribute('data-html')));this.contentDocument.close();\" allowfullscreen webkitallowfullscreen mozallowfullscreen></iframe></div></div>"
      ],
      "text/plain": [
       "<folium.folium.Map at 0x11323bc8>"
      ]
     },
     "execution_count": 8,
     "metadata": {},
     "output_type": "execute_result"
    }
   ],
   "source": [
    "# Initial the map\n",
    "site_map = folium.Map(location=nasa_coordinate, zoom_start=5)\n",
    "# For each launch site, add a Circle object based on its coordinate (Lat, Long) values. In addition, add Launch site name as a popup label\n",
    "for index, site in launch_sites_df.iterrows():\n",
    "    circle = folium.Circle([site['Lat'], site['Long']], color='#d35400', radius=50, fill=True).add_child(folium.Popup(site['Launch Site']))\n",
    "    marker = folium.Marker(\n",
    "    [site['Lat'], site['Long']],\n",
    "    # Create an icon as a text label\n",
    "    icon=DivIcon(\n",
    "        icon_size=(20,20),\n",
    "        icon_anchor=(0,0),\n",
    "        html='<div style=\"font-size: 12; color:#d35400;\"><b>%s</b></div>' % site['Launch Site'],\n",
    "        )\n",
    "    )\n",
    "    site_map.add_child(circle)\n",
    "    site_map.add_child(marker)\n",
    "\n",
    "site_map"
   ]
  },
  {
   "cell_type": "code",
   "execution_count": 9,
   "metadata": {},
   "outputs": [],
   "source": [
    "# Initial the map\n",
    "site_map = folium.Map(location=nasa_coordinate, zoom_start=10)\n",
    "# For each launch site, add a Circle object based on its coordinate (Lat, Long) values. In addition, add Launch site name as a popup label\n"
   ]
  },
  {
   "cell_type": "markdown",
   "metadata": {},
   "source": [
    "The generated map with marked launch sites should look similar to the following:\n"
   ]
  },
  {
   "cell_type": "markdown",
   "metadata": {},
   "source": [
    "<center>\n",
    "    <img src=\"https://cf-courses-data.s3.us.cloud-object-storage.appdomain.cloud/IBM-DS0321EN-SkillsNetwork/labs/module_3/images/launch_site_markers.png\" />\n",
    "</center>\n"
   ]
  },
  {
   "cell_type": "markdown",
   "metadata": {},
   "source": [
    "Now, you can explore the map by zoom-in/out the marked areas\n",
    ", and try to answer the following questions:\n",
    "\n",
    "*   Are all launch sites in proximity to the Equator line?\n",
    "*   Are all launch sites in very close proximity to the coast?\n",
    "\n",
    "Also please try to explain your findings.\n"
   ]
  },
  {
   "cell_type": "markdown",
   "metadata": {},
   "source": [
    "# Task 2: Mark the success/failed launches for each site on the map\n"
   ]
  },
  {
   "cell_type": "markdown",
   "metadata": {},
   "source": [
    "Next, let's try to enhance the map by adding the launch outcomes for each site, and see which sites have high success rates.\n",
    "Recall that data frame spacex_df has detailed launch records, and the `class` column indicates if this launch was successful or not\n"
   ]
  },
  {
   "cell_type": "code",
   "execution_count": 10,
   "metadata": {},
   "outputs": [
    {
     "data": {
      "text/html": [
       "<div>\n",
       "<style scoped>\n",
       "    .dataframe tbody tr th:only-of-type {\n",
       "        vertical-align: middle;\n",
       "    }\n",
       "\n",
       "    .dataframe tbody tr th {\n",
       "        vertical-align: top;\n",
       "    }\n",
       "\n",
       "    .dataframe thead th {\n",
       "        text-align: right;\n",
       "    }\n",
       "</style>\n",
       "<table border=\"1\" class=\"dataframe\">\n",
       "  <thead>\n",
       "    <tr style=\"text-align: right;\">\n",
       "      <th></th>\n",
       "      <th>Launch Site</th>\n",
       "      <th>Lat</th>\n",
       "      <th>Long</th>\n",
       "      <th>class</th>\n",
       "    </tr>\n",
       "  </thead>\n",
       "  <tbody>\n",
       "    <tr>\n",
       "      <th>46</th>\n",
       "      <td>KSC LC-39A</td>\n",
       "      <td>28.573255</td>\n",
       "      <td>-80.646895</td>\n",
       "      <td>1</td>\n",
       "    </tr>\n",
       "    <tr>\n",
       "      <th>47</th>\n",
       "      <td>KSC LC-39A</td>\n",
       "      <td>28.573255</td>\n",
       "      <td>-80.646895</td>\n",
       "      <td>1</td>\n",
       "    </tr>\n",
       "    <tr>\n",
       "      <th>48</th>\n",
       "      <td>KSC LC-39A</td>\n",
       "      <td>28.573255</td>\n",
       "      <td>-80.646895</td>\n",
       "      <td>1</td>\n",
       "    </tr>\n",
       "    <tr>\n",
       "      <th>49</th>\n",
       "      <td>CCAFS SLC-40</td>\n",
       "      <td>28.563197</td>\n",
       "      <td>-80.576820</td>\n",
       "      <td>1</td>\n",
       "    </tr>\n",
       "    <tr>\n",
       "      <th>50</th>\n",
       "      <td>CCAFS SLC-40</td>\n",
       "      <td>28.563197</td>\n",
       "      <td>-80.576820</td>\n",
       "      <td>1</td>\n",
       "    </tr>\n",
       "    <tr>\n",
       "      <th>51</th>\n",
       "      <td>CCAFS SLC-40</td>\n",
       "      <td>28.563197</td>\n",
       "      <td>-80.576820</td>\n",
       "      <td>0</td>\n",
       "    </tr>\n",
       "    <tr>\n",
       "      <th>52</th>\n",
       "      <td>CCAFS SLC-40</td>\n",
       "      <td>28.563197</td>\n",
       "      <td>-80.576820</td>\n",
       "      <td>0</td>\n",
       "    </tr>\n",
       "    <tr>\n",
       "      <th>53</th>\n",
       "      <td>CCAFS SLC-40</td>\n",
       "      <td>28.563197</td>\n",
       "      <td>-80.576820</td>\n",
       "      <td>0</td>\n",
       "    </tr>\n",
       "    <tr>\n",
       "      <th>54</th>\n",
       "      <td>CCAFS SLC-40</td>\n",
       "      <td>28.563197</td>\n",
       "      <td>-80.576820</td>\n",
       "      <td>1</td>\n",
       "    </tr>\n",
       "    <tr>\n",
       "      <th>55</th>\n",
       "      <td>CCAFS SLC-40</td>\n",
       "      <td>28.563197</td>\n",
       "      <td>-80.576820</td>\n",
       "      <td>0</td>\n",
       "    </tr>\n",
       "  </tbody>\n",
       "</table>\n",
       "</div>"
      ],
      "text/plain": [
       "     Launch Site        Lat       Long  class\n",
       "46    KSC LC-39A  28.573255 -80.646895      1\n",
       "47    KSC LC-39A  28.573255 -80.646895      1\n",
       "48    KSC LC-39A  28.573255 -80.646895      1\n",
       "49  CCAFS SLC-40  28.563197 -80.576820      1\n",
       "50  CCAFS SLC-40  28.563197 -80.576820      1\n",
       "51  CCAFS SLC-40  28.563197 -80.576820      0\n",
       "52  CCAFS SLC-40  28.563197 -80.576820      0\n",
       "53  CCAFS SLC-40  28.563197 -80.576820      0\n",
       "54  CCAFS SLC-40  28.563197 -80.576820      1\n",
       "55  CCAFS SLC-40  28.563197 -80.576820      0"
      ]
     },
     "execution_count": 10,
     "metadata": {},
     "output_type": "execute_result"
    }
   ],
   "source": [
    "spacex_df.tail(10)"
   ]
  },
  {
   "cell_type": "markdown",
   "metadata": {},
   "source": [
    "Next, let's create markers for all launch records.\n",
    "If a launch was successful `(class=1)`, then we use a green marker and if a launch was failed, we use a red marker `(class=0)`\n"
   ]
  },
  {
   "cell_type": "markdown",
   "metadata": {},
   "source": [
    "Note that a launch only happens in one of the four launch sites, which means many launch records will have the exact same coordinate. Marker clusters can be a good way to simplify a map containing many markers having the same coordinate.\n"
   ]
  },
  {
   "cell_type": "markdown",
   "metadata": {},
   "source": [
    "Let's first create a `MarkerCluster` object\n"
   ]
  },
  {
   "cell_type": "code",
   "execution_count": 11,
   "metadata": {
    "id": "wP9PVUZ7Jfjt",
    "outputId": "6a3b8164-940c-4b93-9f3d-c655c4a0c683",
    "papermill": {
     "duration": 0.904519,
     "end_time": "2020-09-19T06:27:38.357041",
     "exception": false,
     "start_time": "2020-09-19T06:27:37.452522",
     "status": "completed"
    },
    "tags": []
   },
   "outputs": [],
   "source": [
    "marker_cluster = MarkerCluster()\n"
   ]
  },
  {
   "cell_type": "markdown",
   "metadata": {},
   "source": [
    "*TODO:* Create a new column in `launch_sites` dataframe called `marker_color` to store the marker colors based on the `class` value\n"
   ]
  },
  {
   "cell_type": "code",
   "execution_count": 12,
   "metadata": {},
   "outputs": [
    {
     "data": {
      "text/html": [
       "<div>\n",
       "<style scoped>\n",
       "    .dataframe tbody tr th:only-of-type {\n",
       "        vertical-align: middle;\n",
       "    }\n",
       "\n",
       "    .dataframe tbody tr th {\n",
       "        vertical-align: top;\n",
       "    }\n",
       "\n",
       "    .dataframe thead th {\n",
       "        text-align: right;\n",
       "    }\n",
       "</style>\n",
       "<table border=\"1\" class=\"dataframe\">\n",
       "  <thead>\n",
       "    <tr style=\"text-align: right;\">\n",
       "      <th></th>\n",
       "      <th>Launch Site</th>\n",
       "      <th>Lat</th>\n",
       "      <th>Long</th>\n",
       "      <th>class</th>\n",
       "      <th>marker_color</th>\n",
       "    </tr>\n",
       "  </thead>\n",
       "  <tbody>\n",
       "    <tr>\n",
       "      <th>46</th>\n",
       "      <td>KSC LC-39A</td>\n",
       "      <td>28.573255</td>\n",
       "      <td>-80.646895</td>\n",
       "      <td>1</td>\n",
       "      <td>green</td>\n",
       "    </tr>\n",
       "    <tr>\n",
       "      <th>47</th>\n",
       "      <td>KSC LC-39A</td>\n",
       "      <td>28.573255</td>\n",
       "      <td>-80.646895</td>\n",
       "      <td>1</td>\n",
       "      <td>green</td>\n",
       "    </tr>\n",
       "    <tr>\n",
       "      <th>48</th>\n",
       "      <td>KSC LC-39A</td>\n",
       "      <td>28.573255</td>\n",
       "      <td>-80.646895</td>\n",
       "      <td>1</td>\n",
       "      <td>green</td>\n",
       "    </tr>\n",
       "    <tr>\n",
       "      <th>49</th>\n",
       "      <td>CCAFS SLC-40</td>\n",
       "      <td>28.563197</td>\n",
       "      <td>-80.576820</td>\n",
       "      <td>1</td>\n",
       "      <td>green</td>\n",
       "    </tr>\n",
       "    <tr>\n",
       "      <th>50</th>\n",
       "      <td>CCAFS SLC-40</td>\n",
       "      <td>28.563197</td>\n",
       "      <td>-80.576820</td>\n",
       "      <td>1</td>\n",
       "      <td>green</td>\n",
       "    </tr>\n",
       "    <tr>\n",
       "      <th>51</th>\n",
       "      <td>CCAFS SLC-40</td>\n",
       "      <td>28.563197</td>\n",
       "      <td>-80.576820</td>\n",
       "      <td>0</td>\n",
       "      <td>red</td>\n",
       "    </tr>\n",
       "    <tr>\n",
       "      <th>52</th>\n",
       "      <td>CCAFS SLC-40</td>\n",
       "      <td>28.563197</td>\n",
       "      <td>-80.576820</td>\n",
       "      <td>0</td>\n",
       "      <td>red</td>\n",
       "    </tr>\n",
       "    <tr>\n",
       "      <th>53</th>\n",
       "      <td>CCAFS SLC-40</td>\n",
       "      <td>28.563197</td>\n",
       "      <td>-80.576820</td>\n",
       "      <td>0</td>\n",
       "      <td>red</td>\n",
       "    </tr>\n",
       "    <tr>\n",
       "      <th>54</th>\n",
       "      <td>CCAFS SLC-40</td>\n",
       "      <td>28.563197</td>\n",
       "      <td>-80.576820</td>\n",
       "      <td>1</td>\n",
       "      <td>green</td>\n",
       "    </tr>\n",
       "    <tr>\n",
       "      <th>55</th>\n",
       "      <td>CCAFS SLC-40</td>\n",
       "      <td>28.563197</td>\n",
       "      <td>-80.576820</td>\n",
       "      <td>0</td>\n",
       "      <td>red</td>\n",
       "    </tr>\n",
       "  </tbody>\n",
       "</table>\n",
       "</div>"
      ],
      "text/plain": [
       "     Launch Site        Lat       Long  class marker_color\n",
       "46    KSC LC-39A  28.573255 -80.646895      1        green\n",
       "47    KSC LC-39A  28.573255 -80.646895      1        green\n",
       "48    KSC LC-39A  28.573255 -80.646895      1        green\n",
       "49  CCAFS SLC-40  28.563197 -80.576820      1        green\n",
       "50  CCAFS SLC-40  28.563197 -80.576820      1        green\n",
       "51  CCAFS SLC-40  28.563197 -80.576820      0          red\n",
       "52  CCAFS SLC-40  28.563197 -80.576820      0          red\n",
       "53  CCAFS SLC-40  28.563197 -80.576820      0          red\n",
       "54  CCAFS SLC-40  28.563197 -80.576820      1        green\n",
       "55  CCAFS SLC-40  28.563197 -80.576820      0          red"
      ]
     },
     "execution_count": 12,
     "metadata": {},
     "output_type": "execute_result"
    }
   ],
   "source": [
    "# Function to assign color to launch outcome\n",
    "def assign_marker_color(launch_outcome):\n",
    "    if launch_outcome == 1:\n",
    "        return 'green'\n",
    "    else:\n",
    "        return 'red'\n",
    "    \n",
    "spacex_df['marker_color'] = spacex_df['class'].apply(assign_marker_color)\n",
    "spacex_df.tail(10)"
   ]
  },
  {
   "cell_type": "markdown",
   "metadata": {},
   "source": [
    "*TODO:* For each launch result in `spacex_df` data frame, add a `folium.Marker` to `marker_cluster`\n"
   ]
  },
  {
   "cell_type": "code",
   "execution_count": 25,
   "metadata": {},
   "outputs": [
    {
     "data": {
      "text/html": [
       "<div style=\"width:100%;\"><div style=\"position:relative;width:100%;height:0;padding-bottom:60%;\"><span style=\"color:#565656\">Make this Notebook Trusted to load map: File -> Trust Notebook</span><iframe src=\"about:blank\" style=\"position:absolute;width:100%;height:100%;left:0;top:0;border:none !important;\" data-html=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 onload=\"this.contentDocument.open();this.contentDocument.write(atob(this.getAttribute('data-html')));this.contentDocument.close();\" allowfullscreen webkitallowfullscreen mozallowfullscreen></iframe></div></div>"
      ],
      "text/plain": [
       "<folium.folium.Map at 0x1104e970>"
      ]
     },
     "execution_count": 25,
     "metadata": {},
     "output_type": "execute_result"
    }
   ],
   "source": [
    "site_map.add_child(marker_cluster)\n",
    "\n",
    "for index, record in spacex_df.iterrows():\n",
    "    marker = folium.Marker([record['Lat'], record['Long']], \n",
    "                  icon=folium.Icon(color='white', icon_color=record['marker_color']))\n",
    "    marker_cluster.add_child(marker)\n",
    "site_map"
   ]
  },
  {
   "cell_type": "code",
   "execution_count": 14,
   "metadata": {},
   "outputs": [
    {
     "data": {
      "text/html": [
       "<div style=\"width:100%;\"><div style=\"position:relative;width:100%;height:0;padding-bottom:60%;\"><span style=\"color:#565656\">Make this Notebook Trusted to load map: File -> Trust Notebook</span><iframe src=\"about:blank\" style=\"position:absolute;width:100%;height:100%;left:0;top:0;border:none !important;\" data-html=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 onload=\"this.contentDocument.open();this.contentDocument.write(atob(this.getAttribute('data-html')));this.contentDocument.close();\" allowfullscreen webkitallowfullscreen mozallowfullscreen></iframe></div></div>"
      ],
      "text/plain": [
       "<folium.folium.Map at 0x1104e970>"
      ]
     },
     "execution_count": 14,
     "metadata": {},
     "output_type": "execute_result"
    }
   ],
   "source": [
    "formatter = \"function(num) {return L.Util.formatNum(num, 5);};\"\n",
    "mouse_position = MousePosition(\n",
    "    position='topright',\n",
    "    separator=' Long: ',\n",
    "    empty_string='NaN',\n",
    "    lng_first=False,\n",
    "    num_digits=20,\n",
    "    prefix='Lat:',\n",
    "    lat_formatter=formatter,\n",
    "    lng_formatter=formatter,\n",
    ")\n",
    "\n",
    "site_map.add_child(mouse_position)\n",
    "site_map"
   ]
  },
  {
   "cell_type": "markdown",
   "metadata": {},
   "source": [
    "# TASK 3: Calculate the distances between a launch site to its proximities\n"
   ]
  },
  {
   "cell_type": "markdown",
   "metadata": {},
   "source": [
    "Next, we need to explore and analyze the proximities of launch sites.\n"
   ]
  },
  {
   "cell_type": "markdown",
   "metadata": {},
   "source": [
    "Let's first add a `MousePosition` on the map to get coordinate for a mouse over a point on the map. As such, while you are exploring the map, you can easily find the coordinates of any points of interests (such as railway)\n"
   ]
  },
  {
   "cell_type": "code",
   "execution_count": 15,
   "metadata": {},
   "outputs": [
    {
     "data": {
      "text/html": [
       "<div style=\"width:100%;\"><div style=\"position:relative;width:100%;height:0;padding-bottom:60%;\"><span style=\"color:#565656\">Make this Notebook Trusted to load map: File -> Trust Notebook</span><iframe src=\"about:blank\" style=\"position:absolute;width:100%;height:100%;left:0;top:0;border:none !important;\" data-html=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 onload=\"this.contentDocument.open();this.contentDocument.write(atob(this.getAttribute('data-html')));this.contentDocument.close();\" allowfullscreen webkitallowfullscreen mozallowfullscreen></iframe></div></div>"
      ],
      "text/plain": [
       "<folium.folium.Map at 0x1104e970>"
      ]
     },
     "execution_count": 15,
     "metadata": {},
     "output_type": "execute_result"
    }
   ],
   "source": [
    "# Add Mouse Position to get the coordinate (Lat, Long) for a mouse over on the map\n",
    "formatter = \"function(num) {return L.Util.formatNum(num, 5);};\"\n",
    "mouse_position = MousePosition(\n",
    "    position='topright',\n",
    "    separator=' Long: ',\n",
    "    empty_string='NaN',\n",
    "    lng_first=False,\n",
    "    num_digits=20,\n",
    "    prefix='Lat:',\n",
    "    lat_formatter=formatter,\n",
    "    lng_formatter=formatter,\n",
    ")\n",
    "\n",
    "site_map.add_child(mouse_position)\n",
    "site_map"
   ]
  },
  {
   "cell_type": "markdown",
   "metadata": {},
   "source": [
    "Now zoom in to a launch site and explore its proximity to see if you can easily find any railway, highway, coastline, etc. Move your mouse to these points and mark down their coordinates (shown on the top-left) in order to the distance to the launch site.\n"
   ]
  },
  {
   "cell_type": "markdown",
   "metadata": {},
   "source": [
    "You can calculate the distance between two points on the map based on their `Lat` and `Long` values using the following method:\n"
   ]
  },
  {
   "cell_type": "code",
   "execution_count": 16,
   "metadata": {},
   "outputs": [],
   "source": [
    "from math import sin, cos, sqrt, atan2, radians\n",
    "\n",
    "def calculate_distance(lat1, lon1, lat2, lon2):\n",
    "    # approximate radius of earth in km\n",
    "    R = 6373.0\n",
    "\n",
    "    lat1 = radians(lat1)\n",
    "    lon1 = radians(lon1)\n",
    "    lat2 = radians(lat2)\n",
    "    lon2 = radians(lon2)\n",
    "\n",
    "    dlon = lon2 - lon1\n",
    "    dlat = lat2 - lat1\n",
    "\n",
    "    a = sin(dlat / 2)**2 + cos(lat1) * cos(lat2) * sin(dlon / 2)**2\n",
    "    c = 2 * atan2(sqrt(a), sqrt(1 - a))\n",
    "\n",
    "    distance = R * c\n",
    "    return distance"
   ]
  },
  {
   "cell_type": "markdown",
   "metadata": {},
   "source": [
    "*TODO:* Mark down a point on the closest coastline using MousePosition and calculate the distance between the coastline point and the launch site.\n"
   ]
  },
  {
   "cell_type": "code",
   "execution_count": 17,
   "metadata": {},
   "outputs": [
    {
     "data": {
      "text/html": [
       "<div style=\"width:100%;\"><div style=\"position:relative;width:100%;height:0;padding-bottom:60%;\"><span style=\"color:#565656\">Make this Notebook Trusted to load map: File -> Trust Notebook</span><iframe src=\"about:blank\" style=\"position:absolute;width:100%;height:100%;left:0;top:0;border:none !important;\" data-html=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 onload=\"this.contentDocument.open();this.contentDocument.write(atob(this.getAttribute('data-html')));this.contentDocument.close();\" allowfullscreen webkitallowfullscreen mozallowfullscreen></iframe></div></div>"
      ],
      "text/plain": [
       "<folium.folium.Map at 0x1104e970>"
      ]
     },
     "execution_count": 17,
     "metadata": {},
     "output_type": "execute_result"
    }
   ],
   "source": [
    "# find coordinate of the closet coastline\n",
    "# e.g.,: Lat: 28.56367  Lon: -80.57163\n",
    "# distance_coastline = calculate_distance(launch_site_lat, launch_site_lon, coastline_lat, coastline_lon)\n",
    "\n",
    "#Work out distance to coastline\n",
    "coordinates = [\n",
    "    [28.56342, -80.57674],\n",
    "    [28.56342, -80.56756]]\n",
    "\n",
    "lines=folium.PolyLine(locations=coordinates, weight=1)\n",
    "site_map.add_child(lines)\n",
    "distance = calculate_distance(coordinates[0][0], coordinates[0][1], coordinates[1][0], coordinates[1][1])\n",
    "distance_circle = folium.Marker(\n",
    "    [28.56342, -80.56794],\n",
    "    icon=DivIcon(\n",
    "        icon_size=(20,20),\n",
    "        icon_anchor=(0,0),\n",
    "        html='<div style=\"font-size: 12; color:#d35400;\"><b>%s</b></div>' % \"{:10.2f} KM\".format(distance),\n",
    "        )\n",
    "    )\n",
    "site_map.add_child(distance_circle)\n",
    "site_map"
   ]
  },
  {
   "cell_type": "markdown",
   "metadata": {},
   "source": [
    "*TODO:* After obtained its coordinate, create a `folium.Marker` to show the distance\n"
   ]
  },
  {
   "cell_type": "code",
   "execution_count": 18,
   "metadata": {},
   "outputs": [],
   "source": [
    "# Create and add a folium.Marker on your selected closest coastline point on the map\n",
    "# Display the distance between coastline point and launch site using the icon property \n",
    "# for example\n",
    "# distance_marker = folium.Marker(\n",
    "#    coordinate,\n",
    "#    icon=DivIcon(\n",
    "#        icon_size=(20,20),\n",
    "#        icon_anchor=(0,0),\n",
    "#        html='<div style=\"font-size: 12; color:#d35400;\"><b>%s</b></div>' % \"{:10.2f} KM\".format(distance),\n",
    "#        )\n",
    "#    )"
   ]
  },
  {
   "cell_type": "markdown",
   "metadata": {},
   "source": [
    "*TODO:* Draw a `PolyLine` between a launch site to the selected coastline point\n"
   ]
  },
  {
   "cell_type": "code",
   "execution_count": 19,
   "metadata": {},
   "outputs": [
    {
     "data": {
      "text/html": [
       "<div style=\"width:100%;\"><div style=\"position:relative;width:100%;height:0;padding-bottom:60%;\"><span style=\"color:#565656\">Make this Notebook Trusted to load map: File -> Trust Notebook</span><iframe src=\"about:blank\" style=\"position:absolute;width:100%;height:100%;left:0;top:0;border:none !important;\" data-html=PCFET0NUWVBFIGh0bWw+CjxoZWFkPiAgICAKICAgIDxtZXRhIGh0dHAtZXF1aXY9ImNvbnRlbnQtdHlwZSIgY29udGVudD0idGV4dC9odG1sOyBjaGFyc2V0PVVURi04IiAvPgogICAgCiAgICAgICAgPHNjcmlwdD4KICAgICAgICAgICAgTF9OT19UT1VDSCA9IGZhbHNlOwogICAgICAgICAgICBMX0RJU0FCTEVfM0QgPSBmYWxzZTsKICAgICAgICA8L3NjcmlwdD4KICAgIAogICAgPHNjcmlwdCBzcmM9Imh0dHBzOi8vY2RuLmpzZGVsaXZyLm5ldC9ucG0vbGVhZmxldEAxLjYuMC9kaXN0L2xlYWZsZXQuanMiPjwvc2NyaXB0PgogICAgPHNjcmlwdCBzcmM9Imh0dHBzOi8vY29kZS5qcXVlcnkuY29tL2pxdWVyeS0xLjEyLjQubWluLmpzIj48L3NjcmlwdD4KICAgIDxzY3JpcHQgc3JjPSJodHRwczovL21heGNkbi5ib290c3RyYXBjZG4uY29tL2Jvb3RzdHJhcC8zLjIuMC9qcy9ib290c3RyYXAubWluLmpzIj48L3NjcmlwdD4KICAgIDxzY3JpcHQgc3JjPSJodHRwczovL2NkbmpzLmNsb3VkZmxhcmUuY29tL2FqYXgvbGlicy9MZWFmbGV0LmF3ZXNvbWUtbWFya2Vycy8yLjAuMi9sZWFmbGV0LmF3ZXNvbWUtbWFya2Vycy5qcyI+PC9zY3JpcHQ+CiAgICA8bGluayByZWw9InN0eWxlc2hlZXQiIGhyZWY9Imh0dHBzOi8vY2RuLmpzZGVsaXZyLm5ldC9ucG0vbGVhZmxldEAxLjYuMC9kaXN0L2xlYWZsZXQuY3NzIi8+CiAgICA8bGluayByZWw9InN0eWxlc2hlZXQiIGhyZWY9Imh0dHBzOi8vbWF4Y2RuLmJvb3RzdHJhcGNkbi5jb20vYm9vdHN0cmFwLzMuMi4wL2Nzcy9ib290c3RyYXAubWluLmNzcyIvPgogICAgPGxpbmsgcmVsPSJzdHlsZXNoZWV0IiBocmVmPSJodHRwczovL21heGNkbi5ib290c3RyYXBjZG4uY29tL2Jvb3RzdHJhcC8zLjIuMC9jc3MvYm9vdHN0cmFwLXRoZW1lLm1pbi5jc3MiLz4KICAgIDxsaW5rIHJlbD0ic3R5bGVzaGVldCIgaHJlZj0iaHR0cHM6Ly9tYXhjZG4uYm9vdHN0cmFwY2RuLmNvbS9mb250LWF3ZXNvbWUvNC42LjMvY3NzL2ZvbnQtYXdlc29tZS5taW4uY3NzIi8+CiAgICA8bGluayByZWw9InN0eWxlc2hlZXQiIGhyZWY9Imh0dHBzOi8vY2RuanMuY2xvdWRmbGFyZS5jb20vYWpheC9saWJzL0xlYWZsZXQuYXdlc29tZS1tYXJrZXJzLzIuMC4yL2xlYWZsZXQuYXdlc29tZS1tYXJrZXJzLmNzcyIvPgogICAgPGxpbmsgcmVsPSJzdHlsZXNoZWV0IiBocmVmPSJodHRwczovL3Jhd2Nkbi5naXRoYWNrLmNvbS9weXRob24tdmlzdWFsaXphdGlvbi9mb2xpdW0vbWFzdGVyL2ZvbGl1bS90ZW1wbGF0ZXMvbGVhZmxldC5hd2Vzb21lLnJvdGF0ZS5jc3MiLz4KICAgIDxzdHlsZT5odG1sLCBib2R5IHt3aWR0aDogMTAwJTtoZWlnaHQ6IDEwMCU7bWFyZ2luOiAwO3BhZGRpbmc6IDA7fTwvc3R5bGU+CiAgICA8c3R5bGU+I21hcCB7cG9zaXRpb246YWJzb2x1dGU7dG9wOjA7Ym90dG9tOjA7cmlnaHQ6MDtsZWZ0OjA7fTwvc3R5bGU+CiAgICAKICAgICAgICAgICAgPG1ldGEgbmFtZT0idmlld3BvcnQiIGNvbnRlbnQ9IndpZHRoPWRldmljZS13aWR0aCwKICAgICAgICAgICAgICAgIGluaXRpYWwtc2NhbGU9MS4wLCBtYXhpbXVtLXNjYWxlPTEuMCwgdXNlci1zY2FsYWJsZT1ubyIgLz4KICAgICAgICAgICAgPHN0eWxlPgogICAgICAgICAgICAgICAgI21hcF85Y2FhZGVmMWIyMmE0NDgwYTJjZjEyOGM1YThjMjU4ZSB7CiAgICAgICAgICAgICAgICAgICAgcG9zaXRpb246IHJlbGF0aXZlOwogICAgICAgICAgICAgICAgICAgIHdpZHRoOiAxMDAuMCU7CiAgICAgICAgICAgICAgICAgICAgaGVpZ2h0OiAxMDAuMCU7CiAgICAgICAgICAgICAgICAgICAgbGVmdDogMC4wJTsKICAgICAgICAgICAgICAgICAgICB0b3A6IDAuMCU7CiAgICAgICAgICAgICAgICB9CiAgICAgICAgICAgIDwvc3R5bGU+CiAgICAgICAgCiAgICA8c2NyaXB0IHNyYz0iaHR0cHM6Ly9jZG5qcy5jbG91ZGZsYXJlLmNvbS9hamF4L2xpYnMvbGVhZmxldC5tYXJrZXJjbHVzdGVyLzEuMS4wL2xlYWZsZXQubWFya2VyY2x1c3Rlci5qcyI+PC9zY3JpcHQ+CiAgICA8bGluayByZWw9InN0eWxlc2hlZXQiIGhyZWY9Imh0dHBzOi8vY2RuanMuY2xvdWRmbGFyZS5jb20vYWpheC9saWJzL2xlYWZsZXQubWFya2VyY2x1c3Rlci8xLjEuMC9NYXJrZXJDbHVzdGVyLmNzcyIvPgogICAgPGxpbmsgcmVsPSJzdHlsZXNoZWV0IiBocmVmPSJodHRwczovL2NkbmpzLmNsb3VkZmxhcmUuY29tL2FqYXgvbGlicy9sZWFmbGV0Lm1hcmtlcmNsdXN0ZXIvMS4xLjAvTWFya2VyQ2x1c3Rlci5EZWZhdWx0LmNzcyIvPgogICAgPHNjcmlwdCBzcmM9Imh0dHBzOi8vcmF3Y2RuLmdpdGhhY2suY29tL2FyZGhpL0xlYWZsZXQuTW91c2VQb3NpdGlvbi9jMzJmMWM4NC9zcmMvTC5Db250cm9sLk1vdXNlUG9zaXRpb24uanMiPjwvc2NyaXB0PgogICAgPGxpbmsgcmVsPSJzdHlsZXNoZWV0IiBocmVmPSJodHRwczovL3Jhd2Nkbi5naXRoYWNrLmNvbS9hcmRoaS9MZWFmbGV0Lk1vdXNlUG9zaXRpb24vYzMyZjFjODQvc3JjL0wuQ29udHJvbC5Nb3VzZVBvc2l0aW9uLmNzcyIvPgogICAgPHNjcmlwdCBzcmM9Imh0dHBzOi8vcmF3Y2RuLmdpdGhhY2suY29tL2FyZGhpL0xlYWZsZXQuTW91c2VQb3NpdGlvbi9jMzJmMWM4NC9zcmMvTC5Db250cm9sLk1vdXNlUG9zaXRpb24uanMiPjwvc2NyaXB0PgogICAgPGxpbmsgcmVsPSJzdHlsZXNoZWV0IiBocmVmPSJodHRwczovL3Jhd2Nkbi5naXRoYWNrLmNvbS9hcmRoaS9MZWFmbGV0Lk1vdXNlUG9zaXRpb24vYzMyZjFjODQvc3JjL0wuQ29udHJvbC5Nb3VzZVBvc2l0aW9uLmNzcyIvPgogICAgPHNjcmlwdCBzcmM9Imh0dHBzOi8vcmF3Y2RuLmdpdGhhY2suY29tL2FyZGhpL0xlYWZsZXQuTW91c2VQb3NpdGlvbi9jMzJmMWM4NC9zcmMvTC5Db250cm9sLk1vdXNlUG9zaXRpb24uanMiPjwvc2NyaXB0PgogICAgPGxpbmsgcmVsPSJzdHlsZXNoZWV0IiBocmVmPSJodHRwczovL3Jhd2Nkbi5naXRoYWNrLmNvbS9hcmRoaS9MZWFmbGV0Lk1vdXNlUG9zaXRpb24vYzMyZjFjODQvc3JjL0wuQ29udHJvbC5Nb3VzZVBvc2l0aW9uLmNzcyIvPgogICAgPHNjcmlwdCBzcmM9Imh0dHBzOi8vcmF3Y2RuLmdpdGhhY2suY29tL2FyZGhpL0xlYWZsZXQuTW91c2VQb3NpdGlvbi9jMzJmMWM4NC9zcmMvTC5Db250cm9sLk1vdXNlUG9zaXRpb24uanMiPjwvc2NyaXB0PgogICAgPGxpbmsgcmVsPSJzdHlsZXNoZWV0IiBocmVmPSJodHRwczovL3Jhd2Nkbi5naXRoYWNrLmNvbS9hcmRoaS9MZWFmbGV0Lk1vdXNlUG9zaXRpb24vYzMyZjFjODQvc3JjL0wuQ29udHJvbC5Nb3VzZVBvc2l0aW9uLmNzcyIvPgogICAgPHNjcmlwdCBzcmM9Imh0dHBzOi8vcmF3Y2RuLmdpdGhhY2suY29tL2FyZGhpL0xlYWZsZXQuTW91c2VQb3NpdGlvbi9jMzJmMWM4NC9zcmMvTC5Db250cm9sLk1vdXNlUG9zaXRpb24uanMiPjwvc2NyaXB0PgogICAgPGxpbmsgcmVsPSJzdHlsZXNoZWV0IiBocmVmPSJodHRwczovL3Jhd2Nkbi5naXRoYWNrLmNvbS9hcmRoaS9MZWFmbGV0Lk1vdXNlUG9zaXRpb24vYzMyZjFjODQvc3JjL0wuQ29udHJvbC5Nb3VzZVBvc2l0aW9uLmNzcyIvPgogICAgPHNjcmlwdCBzcmM9Imh0dHBzOi8vcmF3Y2RuLmdpdGhhY2suY29tL2FyZGhpL0xlYWZsZXQuTW91c2VQb3NpdGlvbi9jMzJmMWM4NC9zcmMvTC5Db250cm9sLk1vdXNlUG9zaXRpb24uanMiPjwvc2NyaXB0PgogICAgPGxpbmsgcmVsPSJzdHlsZXNoZWV0IiBocmVmPSJodHRwczovL3Jhd2Nkbi5naXRoYWNrLmNvbS9hcmRoaS9MZWFmbGV0Lk1vdXNlUG9zaXRpb24vYzMyZjFjODQvc3JjL0wuQ29udHJvbC5Nb3VzZVBvc2l0aW9uLmNzcyIvPgogICAgPHNjcmlwdCBzcmM9Imh0dHBzOi8vcmF3Y2RuLmdpdGhhY2suY29tL2FyZGhpL0xlYWZsZXQuTW91c2VQb3NpdGlvbi9jMzJmMWM4NC9zcmMvTC5Db250cm9sLk1vdXNlUG9zaXRpb24uanMiPjwvc2NyaXB0PgogICAgPGxpbmsgcmVsPSJzdHlsZXNoZWV0IiBocmVmPSJodHRwczovL3Jhd2Nkbi5naXRoYWNrLmNvbS9hcmRoaS9MZWFmbGV0Lk1vdXNlUG9zaXRpb24vYzMyZjFjODQvc3JjL0wuQ29udHJvbC5Nb3VzZVBvc2l0aW9uLmNzcyIvPgo8L2hlYWQ+Cjxib2R5PiAgICAKICAgIAogICAgICAgICAgICA8ZGl2IGNsYXNzPSJmb2xpdW0tbWFwIiBpZD0ibWFwXzljYWFkZWYxYjIyYTQ0ODBhMmNmMTI4YzVhOGMyNThlIiA+PC9kaXY+CiAgICAgICAgCjwvYm9keT4KPHNjcmlwdD4gICAgCiAgICAKICAgICAgICAgICAgdmFyIG1hcF85Y2FhZGVmMWIyMmE0NDgwYTJjZjEyOGM1YThjMjU4ZSA9IEwubWFwKAogICAgICAgICAgICAgICAgIm1hcF85Y2FhZGVmMWIyMmE0NDgwYTJjZjEyOGM1YThjMjU4ZSIsCiAgICAgICAgICAgICAgICB7CiAgICAgICAgICAgICAgICAgICAgY2VudGVyOiBbMjkuNTU5Njg0ODg4NTAzNjE1LCAtOTUuMDgzMDk3MTkzMDc1OV0sCiAgICAgICAgICAgICAgICAgICAgY3JzOiBMLkNSUy5FUFNHMzg1NywKICAgICAgICAgICAgICAgICAgICB6b29tOiAxMCwKICAgICAgICAgICAgICAgICAgICB6b29tQ29udHJvbDogdHJ1ZSwKICAgICAgICAgICAgICAgICAgICBwcmVmZXJDYW52YXM6IGZhbHNlLAogICAgICAgICAgICAgICAgfQogICAgICAgICAgICApOwoKICAgICAgICAgICAgCgogICAgICAgIAogICAgCiAgICAgICAgICAgIHZhciB0aWxlX2xheWVyXzEyZjc1Mzc5MTU2MDRjOGNiNDQyZGM4ZjYwZDMwZGIzID0gTC50aWxlTGF5ZXIoCiAgICAgICAgICAgICAgICAiaHR0cHM6Ly97c30udGlsZS5vcGVuc3RyZWV0bWFwLm9yZy97en0ve3h9L3t5fS5wbmciLAogICAgICAgICAgICAgICAgeyJhdHRyaWJ1dGlvbiI6ICJEYXRhIGJ5IFx1MDAyNmNvcHk7IFx1MDAzY2EgaHJlZj1cImh0dHA6Ly9vcGVuc3RyZWV0bWFwLm9yZ1wiXHUwMDNlT3BlblN0cmVldE1hcFx1MDAzYy9hXHUwMDNlLCB1bmRlciBcdTAwM2NhIGhyZWY9XCJodHRwOi8vd3d3Lm9wZW5zdHJlZXRtYXAub3JnL2NvcHlyaWdodFwiXHUwMDNlT0RiTFx1MDAzYy9hXHUwMDNlLiIsICJkZXRlY3RSZXRpbmEiOiBmYWxzZSwgIm1heE5hdGl2ZVpvb20iOiAxOCwgIm1heFpvb20iOiAxOCwgIm1pblpvb20iOiAwLCAibm9XcmFwIjogZmFsc2UsICJvcGFjaXR5IjogMSwgInN1YmRvbWFpbnMiOiAiYWJjIiwgInRtcyI6IGZhbHNlfQogICAgICAgICAgICApLmFkZFRvKG1hcF85Y2FhZGVmMWIyMmE0NDgwYTJjZjEyOGM1YThjMjU4ZSk7CiAgICAgICAgCiAgICAKICAgICAgICAgICAgdmFyIG1hcmtlcl9jbHVzdGVyXzM2NDAxMmIxNDhiMjRmYTA5YTgyM2NlMjM1OTcwNmFlID0gTC5tYXJrZXJDbHVzdGVyR3JvdXAoCiAgICAgICAgICAgICAgICB7fQogICAgICAgICAgICApOwogICAgICAgICAgICBtYXBfOWNhYWRlZjFiMjJhNDQ4MGEyY2YxMjhjNWE4YzI1OGUuYWRkTGF5ZXIobWFya2VyX2NsdXN0ZXJfMzY0MDEyYjE0OGIyNGZhMDlhODIzY2UyMzU5NzA2YWUpOwogICAgICAgIAogICAgCiAgICAgICAgICAgIHZhciBtYXJrZXJfZTM1NDJlMDdkMWQ5NGMyMWE1NjVjMWE4YmEzYTIxMjYgPSBMLm1hcmtlcigKICAgICAgICAgICAgICAgIFszNC42MzI4MzQxNjE3ODI3NywgLTEyMC42MTA3NDU1MzA2ODMyOV0sCiAgICAgICAgICAgICAgICB7fQogICAgICAgICAgICApLmFkZFRvKG1hcmtlcl9jbHVzdGVyXzM2NDAxMmIxNDhiMjRmYTA5YTgyM2NlMjM1OTcwNmFlKTsKICAgICAgICAKICAgIAogICAgICAgICAgICB2YXIgZGl2X2ljb25fMTkxNGUwMzk1NGYxNGNjNzg2MTk3ZTlhYmZiMmE2ZGIgPSBMLmRpdkljb24oeyJjbGFzc05hbWUiOiAiZW1wdHkiLCAiaHRtbCI6ICJcdTAwM2NkaXYgc3R5bGU9XCJmb250LXNpemU6IDEyOyBjb2xvcjojZDM1NDAwO1wiXHUwMDNlXHUwMDNjYlx1MDAzZVZBRkIgU0xDLTRFXHUwMDNjL2JcdTAwM2VcdTAwM2MvZGl2XHUwMDNlIiwgImljb25BbmNob3IiOiBbMCwgMF0sICJpY29uU2l6ZSI6IFsyMCwgMjBdfSk7CiAgICAgICAgICAgIG1hcmtlcl9lMzU0MmUwN2QxZDk0YzIxYTU2NWMxYThiYTNhMjEyNi5zZXRJY29uKGRpdl9pY29uXzE5MTRlMDM5NTRmMTRjYzc4NjE5N2U5YWJmYjJhNmRiKTsKICAgICAgICAKICAgIAogICAgICAgICAgICB2YXIgbW91c2VfcG9zaXRpb25fZThkMmM5MGIxODRlNDY4Nzg1MDkzODlkNTQzMDEwZmEgPSBuZXcgTC5Db250cm9sLk1vdXNlUG9zaXRpb24oCiAgICAgICAgICAgICAgICB7ImVtcHR5U3RyaW5nIjogIk5hTiIsICJsbmdGaXJzdCI6IGZhbHNlLCAibnVtRGlnaXRzIjogMjAsICJwb3NpdGlvbiI6ICJ0b3ByaWdodCIsICJwcmVmaXgiOiAiTGF0OiIsICJzZXBhcmF0b3IiOiAiIExvbmc6ICJ9CiAgICAgICAgICAgICk7CiAgICAgICAgICAgIG1vdXNlX3Bvc2l0aW9uX2U4ZDJjOTBiMTg0ZTQ2ODc4NTA5Mzg5ZDU0MzAxMGZhLm9wdGlvbnNbImxhdEZvcm1hdHRlciJdID0KICAgICAgICAgICAgICAgIGZ1bmN0aW9uKG51bSkge3JldHVybiBMLlV0aWwuZm9ybWF0TnVtKG51bSwgNSk7fTs7CiAgICAgICAgICAgIG1vdXNlX3Bvc2l0aW9uX2U4ZDJjOTBiMTg0ZTQ2ODc4NTA5Mzg5ZDU0MzAxMGZhLm9wdGlvbnNbImxuZ0Zvcm1hdHRlciJdID0KICAgICAgICAgICAgICAgIGZ1bmN0aW9uKG51bSkge3JldHVybiBMLlV0aWwuZm9ybWF0TnVtKG51bSwgNSk7fTs7CiAgICAgICAgICAgIG1hcF85Y2FhZGVmMWIyMmE0NDgwYTJjZjEyOGM1YThjMjU4ZS5hZGRDb250cm9sKG1vdXNlX3Bvc2l0aW9uX2U4ZDJjOTBiMTg0ZTQ2ODc4NTA5Mzg5ZDU0MzAxMGZhKTsKICAgICAgICAKICAgIAogICAgICAgICAgICB2YXIgbW91c2VfcG9zaXRpb25fNjIzODYzZjFmNWE4NDZlMGJmYmIzZjgwMzBkZDViNTkgPSBuZXcgTC5Db250cm9sLk1vdXNlUG9zaXRpb24oCiAgICAgICAgICAgICAgICB7ImVtcHR5U3RyaW5nIjogIk5hTiIsICJsbmdGaXJzdCI6IGZhbHNlLCAibnVtRGlnaXRzIjogMjAsICJwb3NpdGlvbiI6ICJ0b3ByaWdodCIsICJwcmVmaXgiOiAiTGF0OiIsICJzZXBhcmF0b3IiOiAiIExvbmc6ICJ9CiAgICAgICAgICAgICk7CiAgICAgICAgICAgIG1vdXNlX3Bvc2l0aW9uXzYyMzg2M2YxZjVhODQ2ZTBiZmJiM2Y4MDMwZGQ1YjU5Lm9wdGlvbnNbImxhdEZvcm1hdHRlciJdID0KICAgICAgICAgICAgICAgIGZ1bmN0aW9uKG51bSkge3JldHVybiBMLlV0aWwuZm9ybWF0TnVtKG51bSwgNSk7fTs7CiAgICAgICAgICAgIG1vdXNlX3Bvc2l0aW9uXzYyMzg2M2YxZjVhODQ2ZTBiZmJiM2Y4MDMwZGQ1YjU5Lm9wdGlvbnNbImxuZ0Zvcm1hdHRlciJdID0KICAgICAgICAgICAgICAgIGZ1bmN0aW9uKG51bSkge3JldHVybiBMLlV0aWwuZm9ybWF0TnVtKG51bSwgNSk7fTs7CiAgICAgICAgICAgIG1hcF85Y2FhZGVmMWIyMmE0NDgwYTJjZjEyOGM1YThjMjU4ZS5hZGRDb250cm9sKG1vdXNlX3Bvc2l0aW9uXzYyMzg2M2YxZjVhODQ2ZTBiZmJiM2Y4MDMwZGQ1YjU5KTsKICAgICAgICAKICAgIAogICAgICAgICAgICB2YXIgcG9seV9saW5lXzFjMjQ5Y2UyNGEwYjRlNTc4ZGRmNjVkNmY4YzA1MGRhID0gTC5wb2x5bGluZSgKICAgICAgICAgICAgICAgIFtbMjguNTYzNDIsIC04MC41NzY3NF0sIFsyOC41NjM0MiwgLTgwLjU2NzU2XV0sCiAgICAgICAgICAgICAgICB7ImJ1YmJsaW5nTW91c2VFdmVudHMiOiB0cnVlLCAiY29sb3IiOiAiIzMzODhmZiIsICJkYXNoQXJyYXkiOiBudWxsLCAiZGFzaE9mZnNldCI6IG51bGwsICJmaWxsIjogZmFsc2UsICJmaWxsQ29sb3IiOiAiIzMzODhmZiIsICJmaWxsT3BhY2l0eSI6IDAuMiwgImZpbGxSdWxlIjogImV2ZW5vZGQiLCAibGluZUNhcCI6ICJyb3VuZCIsICJsaW5lSm9pbiI6ICJyb3VuZCIsICJub0NsaXAiOiBmYWxzZSwgIm9wYWNpdHkiOiAxLjAsICJzbW9vdGhGYWN0b3IiOiAxLjAsICJzdHJva2UiOiB0cnVlLCAid2VpZ2h0IjogMX0KICAgICAgICAgICAgKS5hZGRUbyhtYXBfOWNhYWRlZjFiMjJhNDQ4MGEyY2YxMjhjNWE4YzI1OGUpOwogICAgICAgIAogICAgCiAgICAgICAgICAgIHZhciBtYXJrZXJfNmE2MmEwZjE1MDgyNGRmOTlhYjhlNDQ3YTM5YjI4NjAgPSBMLm1hcmtlcigKICAgICAgICAgICAgICAgIFsyOC41NjM0MiwgLTgwLjU2Nzk0XSwKICAgICAgICAgICAgICAgIHt9CiAgICAgICAgICAgICkuYWRkVG8obWFwXzljYWFkZWYxYjIyYTQ0ODBhMmNmMTI4YzVhOGMyNThlKTsKICAgICAgICAKICAgIAogICAgICAgICAgICB2YXIgZGl2X2ljb25fMDJjNWQ4NjZkYzk5NDg1MDk5ODk5NjRjOTM3MTkwMDYgPSBMLmRpdkljb24oeyJjbGFzc05hbWUiOiAiZW1wdHkiLCAiaHRtbCI6ICJcdTAwM2NkaXYgc3R5bGU9XCJmb250LXNpemU6IDEyOyBjb2xvcjojZDM1NDAwO1wiXHUwMDNlXHUwMDNjYlx1MDAzZSAgICAgIDAuOTAgS01cdTAwM2MvYlx1MDAzZVx1MDAzYy9kaXZcdTAwM2UiLCAiaWNvbkFuY2hvciI6IFswLCAwXSwgImljb25TaXplIjogWzIwLCAyMF19KTsKICAgICAgICAgICAgbWFya2VyXzZhNjJhMGYxNTA4MjRkZjk5YWI4ZTQ0N2EzOWIyODYwLnNldEljb24oZGl2X2ljb25fMDJjNWQ4NjZkYzk5NDg1MDk5ODk5NjRjOTM3MTkwMDYpOwogICAgICAgIAo8L3NjcmlwdD4= onload=\"this.contentDocument.open();this.contentDocument.write(atob(this.getAttribute('data-html')));this.contentDocument.close();\" allowfullscreen webkitallowfullscreen mozallowfullscreen></iframe></div></div>"
      ],
      "text/plain": [
       "<folium.folium.Map at 0x1104e970>"
      ]
     },
     "execution_count": 19,
     "metadata": {},
     "output_type": "execute_result"
    }
   ],
   "source": [
    "# Create a `folium.PolyLine` object using the coastline coordinates and launch site coordinate\n",
    "# lines=folium.PolyLine(locations=coordinates, weight=1)\n",
    "site_map.add_child(lines)"
   ]
  },
  {
   "cell_type": "markdown",
   "metadata": {},
   "source": [
    "Your updated map with distance line should look like the following screenshot:\n"
   ]
  },
  {
   "cell_type": "markdown",
   "metadata": {},
   "source": [
    "<center>\n",
    "    <img src=\"https://cf-courses-data.s3.us.cloud-object-storage.appdomain.cloud/IBM-DS0321EN-SkillsNetwork/labs/module_3/images/launch_site_marker_distance.png\" />\n",
    "</center>\n"
   ]
  },
  {
   "cell_type": "markdown",
   "metadata": {},
   "source": [
    "*TODO:* Similarly, you can draw a line betwee a launch site to its closest city, railway, highway, etc. You need to use `MousePosition` to find the their coordinates on the map first\n"
   ]
  },
  {
   "cell_type": "markdown",
   "metadata": {},
   "source": [
    "A railway map symbol may look like this:\n"
   ]
  },
  {
   "cell_type": "markdown",
   "metadata": {},
   "source": [
    "<center>\n",
    "    <img src=\"https://cf-courses-data.s3.us.cloud-object-storage.appdomain.cloud/IBM-DS0321EN-SkillsNetwork/labs/module_3/images/railway.png\" />\n",
    "</center>\n"
   ]
  },
  {
   "cell_type": "markdown",
   "metadata": {},
   "source": [
    "A highway map symbol may look like this:\n"
   ]
  },
  {
   "cell_type": "markdown",
   "metadata": {},
   "source": [
    "<center>\n",
    "    <img src=\"https://cf-courses-data.s3.us.cloud-object-storage.appdomain.cloud/IBM-DS0321EN-SkillsNetwork/labs/module_3/images/highway.png\" />\n",
    "</center>\n"
   ]
  },
  {
   "cell_type": "markdown",
   "metadata": {},
   "source": [
    "A city map symbol may look like this:\n"
   ]
  },
  {
   "cell_type": "markdown",
   "metadata": {},
   "source": [
    "<center>\n",
    "    <img src=\"https://cf-courses-data.s3.us.cloud-object-storage.appdomain.cloud/IBM-DS0321EN-SkillsNetwork/labs/module_3/images/city.png\" />\n",
    "</center>\n"
   ]
  },
  {
   "cell_type": "code",
   "execution_count": 20,
   "metadata": {},
   "outputs": [],
   "source": [
    "# Create a marker with distance to a closest city, railway, highway, etc.\n",
    "# Draw a line between the marker to the launch site\n",
    "from math import sin, cos, sqrt, atan2, radians\n",
    "\n",
    "def calculate_distance(lat1, lon1, lat2, lon2):\n",
    "    # approximate radius of earth in km\n",
    "    R = 6373.0\n",
    "\n",
    "    lat1 = radians(lat1)\n",
    "    lon1 = radians(lon1)\n",
    "    lat2 = radians(lat2)\n",
    "    lon2 = radians(lon2)\n",
    "\n",
    "    dlon = lon2 - lon1\n",
    "    dlat = lat2 - lat1\n",
    "\n",
    "    a = sin(dlat / 2)**2 + cos(lat1) * cos(lat2) * sin(dlon / 2)**2\n",
    "    c = 2 * atan2(sqrt(a), sqrt(1 - a))\n",
    "\n",
    "    distance = R * c\n",
    "    return distance"
   ]
  },
  {
   "cell_type": "code",
   "execution_count": 21,
   "metadata": {},
   "outputs": [
    {
     "data": {
      "text/html": [
       "<div style=\"width:100%;\"><div style=\"position:relative;width:100%;height:0;padding-bottom:60%;\"><span style=\"color:#565656\">Make this Notebook Trusted to load map: File -> Trust Notebook</span><iframe src=\"about:blank\" style=\"position:absolute;width:100%;height:100%;left:0;top:0;border:none !important;\" data-html=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 onload=\"this.contentDocument.open();this.contentDocument.write(atob(this.getAttribute('data-html')));this.contentDocument.close();\" allowfullscreen webkitallowfullscreen mozallowfullscreen></iframe></div></div>"
      ],
      "text/plain": [
       "<folium.folium.Map at 0x1104e970>"
      ]
     },
     "execution_count": 21,
     "metadata": {},
     "output_type": "execute_result"
    }
   ],
   "source": [
    "#Work out distance to coastline\n",
    "coordinates = [\n",
    "    [28.56342, -80.57674],\n",
    "    [28.56342, -80.56756]]\n",
    "\n",
    "lines=folium.PolyLine(locations=coordinates, weight=1)\n",
    "site_map.add_child(lines)\n",
    "distance = calculate_distance(coordinates[0][0], coordinates[0][1], coordinates[1][0], coordinates[1][1])\n",
    "distance_circle = folium.Marker(\n",
    "    [28.56342, -80.56794],\n",
    "    icon=DivIcon(\n",
    "        icon_size=(20,20),\n",
    "        icon_anchor=(0,0),\n",
    "        html='<div style=\"font-size: 12; color:#d35400;\"><b>%s</b></div>' % \"{:10.2f} KM\".format(distance),\n",
    "        )\n",
    "    )\n",
    "site_map.add_child(distance_circle)\n",
    "site_map"
   ]
  },
  {
   "cell_type": "code",
   "execution_count": 22,
   "metadata": {},
   "outputs": [
    {
     "data": {
      "text/html": [
       "<div style=\"width:100%;\"><div style=\"position:relative;width:100%;height:0;padding-bottom:60%;\"><span style=\"color:#565656\">Make this Notebook Trusted to load map: File -> Trust Notebook</span><iframe src=\"about:blank\" style=\"position:absolute;width:100%;height:100%;left:0;top:0;border:none !important;\" data-html=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 onload=\"this.contentDocument.open();this.contentDocument.write(atob(this.getAttribute('data-html')));this.contentDocument.close();\" allowfullscreen webkitallowfullscreen mozallowfullscreen></iframe></div></div>"
      ],
      "text/plain": [
       "<folium.folium.Map at 0x1104e970>"
      ]
     },
     "execution_count": 22,
     "metadata": {},
     "output_type": "execute_result"
    }
   ],
   "source": [
    "#Distance to Highway\n",
    "coordinates = [\n",
    "    [28.56342, -80.57674],\n",
    "    [28.411780, -80.820630]]\n",
    "\n",
    "lines=folium.PolyLine(locations=coordinates, weight=1)\n",
    "site_map.add_child(lines)\n",
    "distance = calculate_distance(coordinates[0][0], coordinates[0][1], coordinates[1][0], coordinates[1][1])\n",
    "distance_circle = folium.Marker(\n",
    "    [28.411780, -80.820630],\n",
    "    icon=DivIcon(\n",
    "        icon_size=(20,20),\n",
    "        icon_anchor=(0,0),\n",
    "        html='<div style=\"font-size: 12; color:#252526;\"><b>%s</b></div>' % \"{:10.2f} KM\".format(distance),\n",
    "        )\n",
    "    )\n",
    "site_map.add_child(distance_circle)\n",
    "site_map"
   ]
  },
  {
   "cell_type": "code",
   "execution_count": 23,
   "metadata": {},
   "outputs": [
    {
     "data": {
      "text/html": [
       "<div style=\"width:100%;\"><div style=\"position:relative;width:100%;height:0;padding-bottom:60%;\"><span style=\"color:#565656\">Make this Notebook Trusted to load map: File -> Trust Notebook</span><iframe src=\"about:blank\" style=\"position:absolute;width:100%;height:100%;left:0;top:0;border:none !important;\" data-html=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 onload=\"this.contentDocument.open();this.contentDocument.write(atob(this.getAttribute('data-html')));this.contentDocument.close();\" allowfullscreen webkitallowfullscreen mozallowfullscreen></iframe></div></div>"
      ],
      "text/plain": [
       "<folium.folium.Map at 0x1104e970>"
      ]
     },
     "execution_count": 23,
     "metadata": {},
     "output_type": "execute_result"
    }
   ],
   "source": [
    "#Distance to Florida City \n",
    "\n",
    "coordinates = [\n",
    "    [28.56342, -80.57674],\n",
    "    [28.5383, -81.3792]]\n",
    "\n",
    "lines=folium.PolyLine(locations=coordinates, weight=1)\n",
    "site_map.add_child(lines)\n",
    "distance = calculate_distance(coordinates[0][0], coordinates[0][1], coordinates[1][0], coordinates[1][1])\n",
    "distance_circle = folium.Marker(\n",
    "    [28.5383, -81.3792],\n",
    "    icon=DivIcon(\n",
    "        icon_size=(20,20),\n",
    "        icon_anchor=(0,0),\n",
    "        html='<div style=\"font-size: 12; color:#252526;\"><b>%s</b></div>' % \"{:10.2f} KM\".format(distance),\n",
    "        )\n",
    "    )\n",
    "site_map.add_child(distance_circle)\n",
    "site_map"
   ]
  },
  {
   "cell_type": "markdown",
   "metadata": {},
   "source": [
    "After you plot distance lines to the proximities, you can answer the following questions easily:\n",
    "\n",
    "*   Are launch sites in close proximity to railways?\n",
    "*   Are launch sites in close proximity to highways?\n",
    "*   Are launch sites in close proximity to coastline?\n",
    "*   Do launch sites keep certain distance away from cities?\n",
    "\n",
    "Also please try to explain your findings.\n"
   ]
  },
  {
   "cell_type": "markdown",
   "metadata": {},
   "source": [
    "# Next Steps:\n",
    "\n",
    "Now you have discovered many interesting insights related to the launch sites' location using folium, in a very interactive way. Next, you will need to build a dashboard using Ploty Dash on detailed launch records.\n"
   ]
  },
  {
   "cell_type": "markdown",
   "metadata": {},
   "source": [
    "## Authors\n"
   ]
  },
  {
   "cell_type": "markdown",
   "metadata": {},
   "source": [
    "[Yan Luo](https://www.linkedin.com/in/yan-luo-96288783/?utm_medium=Exinfluencer&utm_source=Exinfluencer&utm_content=000026UJ&utm_term=10006555&utm_id=NA-SkillsNetwork-Channel-SkillsNetworkCoursesIBMDS0321ENSkillsNetwork26802033-2021-01-01)\n"
   ]
  },
  {
   "cell_type": "markdown",
   "metadata": {},
   "source": [
    "### Other Contributors\n"
   ]
  },
  {
   "cell_type": "markdown",
   "metadata": {},
   "source": [
    "Joseph Santarcangelo\n"
   ]
  },
  {
   "cell_type": "markdown",
   "metadata": {},
   "source": [
    "## Change Log\n"
   ]
  },
  {
   "cell_type": "markdown",
   "metadata": {},
   "source": [
    "| Date (YYYY-MM-DD) | Version | Changed By | Change Description          |\n",
    "| ----------------- | ------- | ---------- | --------------------------- |\n",
    "| 2021-05-26        | 1.0     | Yan        | Created the initial version |\n"
   ]
  },
  {
   "cell_type": "markdown",
   "metadata": {},
   "source": [
    "Copyright © 2021 IBM Corporation. All rights reserved.\n"
   ]
  }
 ],
 "metadata": {
  "kernelspec": {
   "display_name": "Python 3",
   "language": "python",
   "name": "python3"
  },
  "language_info": {
   "codemirror_mode": {
    "name": "ipython",
    "version": 3
   },
   "file_extension": ".py",
   "mimetype": "text/x-python",
   "name": "python",
   "nbconvert_exporter": "python",
   "pygments_lexer": "ipython3",
   "version": "3.8.3"
  },
  "papermill": {
   "duration": 142.196942,
   "end_time": "2020-09-19T06:29:13.341578",
   "environment_variables": {},
   "exception": null,
   "input_path": "__notebook__.ipynb",
   "output_path": "__notebook__.ipynb",
   "parameters": {},
   "start_time": "2020-09-19T06:26:51.144636",
   "version": "2.1.0"
  }
 },
 "nbformat": 4,
 "nbformat_minor": 4
}
